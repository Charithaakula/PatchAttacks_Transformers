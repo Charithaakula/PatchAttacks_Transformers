{
 "cells": [
  {
   "cell_type": "code",
   "execution_count": 1,
   "id": "c7b5ee99",
   "metadata": {},
   "outputs": [],
   "source": [
    "#!/usr/bin/env python\n",
    "# coding: utf-8\n",
    "\n",
    "import argparse\n",
    "import copy\n",
    "import logging\n",
    "import os\n",
    "import pickle as pkl\n",
    "import sys\n",
    "from pathlib import Path\n",
    "\n",
    "#import foolbox as fb\n",
    "import matplotlib\n",
    "import numpy as np\n",
    "import torch\n",
    "import torchvision\n",
    "from matplotlib import pyplot as plt\n",
    "from torch import autograd, nn\n",
    "#from timm.data import Dataset, DatasetTar, create_loader, resolve_data_config, RealLabelsImagenet\n",
    "from torch.utils.data import DataLoader, Subset\n",
    "from torchvision.datasets import CIFAR10, ImageNet\n",
    "from torchvision.transforms import Compose, Normalize, Resize, ToTensor\n",
    "\n",
    "from timm.data import resolve_data_config\n",
    "from timm.data.transforms_factory import create_transform\n",
    "# ,apply_test_time_pool, load_checkpoint, is_model, list_models\n",
    "from timm.models import create_model\n",
    "\n",
    "matplotlib.use('Agg')\n",
    "\n",
    "\n",
    "def get_img(x):\n",
    "    tmp = x[:, ...].detach().cpu().numpy().transpose(1, 2, 0)\n",
    "    return tmp\n",
    "\n",
    "\n",
    "def prod(x):\n",
    "    pr = 1.0\n",
    "    for p in x.shape:\n",
    "        pr *= p\n",
    "    return pr\n",
    "\n",
    "#coat_tiny and coat_mini are 4 patch size\n",
    "mtype_dict = {'vit384': 'vit_base_patch16_384', 'vit224': 'vit_base_patch16_224',\n",
    "              'wide-resnet': 'wide_resnet101_2', 'deit224': 'deit_base_patch16_224', 'bit_152_4': 'resnetv2_152x4_bitm',\n",
    "              'deit224_distill':'deit_base_distilled_patch16_224', 'effnet': 'tf_efficientnet_l2_ns', 'resnet50':'resnet50', 'resnet101d':'resnet101d',\n",
    "                'swin224':'swin_small_patch4_window7_224', 'swin224base': 'swin_base_patch4_window7_224', 'swin224large': 'swin_large_patch4_window7_224',\n",
    "                'coat_tiny':'coat_tiny', 'coat_mini':'coat_mini',\n",
    "                'beitv2_base_224': 'beitv2_base_patch16_224', 'beitv2_large_224':'beitv2_large_patch16_224','beit_base_224': 'beit_base_patch16_224', 'beit_large_224':'beit_large_patch16_224',\n",
    "                'deit3_small_224':'deit3_small_patch16_224', 'deit3_medium_224':'deit3_medium_patch16_224', 'deit3_base_224': 'deit3_base_patch16_224',  'deit3_large_224':'deit3_large_patch16_224', 'deit3_huge_224_14': 'deit3_huge_patch14_224',\n",
    "                'maxvit': 'maxvit_base_224', 'maxvit_large':'maxvit_xlarge_224',\n",
    "                'conv2_base':'convnextv2_base', 'conv2_huge': 'convnextv2_huge', 'conv2_large':'convnextv2_large'\n",
    "                    }\n",
    "#att_type_dict = {'pgdlinf': fb.attacks.LinfProjectedGradientDescentAttack(rel_stepsize=0.033, steps=40, random_start=True),\n",
    "#                 'pgdl2': fb.attacks.L2ProjectedGradientDescentAttack(steps=40, random_start=True)\n",
    "#                 }\n",
    "\n",
    "\n",
    "def get_patches(img, patch_size=16):\n",
    "    bs, ch, sx, sy = img.size()\n",
    "    patches = []\n",
    "    for i in range(0, sx, patch_size):\n",
    "        for j in range(0, sy, patch_size):\n",
    "            patches.append(img[:, :, i:i+patch_size, j:j+patch_size])\n",
    "    return patches\n",
    "\n",
    "\n",
    "def reconstruct_img(patches, img):\n",
    "    bs, ch, sx, sy = img.shape\n",
    "    _, _, patch_size, _ = patches[0].shape\n",
    "    recon = torch.zeros((bs, ch, sx, sy), device=device)\n",
    "    k = 0\n",
    "    for i in range(0, sx, patch_size):\n",
    "        for j in range(0, sy, patch_size):\n",
    "            recon[:, :, i:i+patch_size, j:j+patch_size] = patches[k]\n",
    "            k += 1\n",
    "    return recon\n",
    "\n",
    "\n",
    "def MultiPatchGDAttack(model, img, label, loss=nn.CrossEntropyLoss(), iterations=40, device=torch.device('cuda:0'), max_num_patches=100, clip_flag=False, bounds=[-1, 1], patch_size=16, lr=0.033, epsilon=1.0, *args, **kwargs):\n",
    "    base_img = copy.deepcopy(img)\n",
    "    img = img.to(device)\n",
    "    img.requires_grad_(True)\n",
    "    bs, ch, sx, sy = img.size()\n",
    "    label = label.to(device)\n",
    "    print(f'epsilon:{epsilon}')\n",
    "   # patch_size = 16\n",
    "    #l2_norms = {}\n",
    "    #max_val = 0.0\n",
    "    #max_i, max_j = 0,0\n",
    "    succ = 0\n",
    "    grad_mags = {}\n",
    "    # Calculating most salient patches\n",
    "    pred = model(img)\n",
    "    loss_val = loss(pred, label)\n",
    "    grad_val = autograd.grad(loss_val, img)\n",
    "    for i in range(0, sx, patch_size):\n",
    "        for j in range(0, sy, patch_size):\n",
    "            grad_mags[(i, j)] = torch.norm(\n",
    "                grad_val[0][:, :, i:i+patch_size, j:j+patch_size], p=\"fro\")\n",
    "    sorted_tuples = sorted(grad_mags.items(), key=lambda x: x[1], reverse=True)\n",
    "    grad_mags_sorted = [(k, v) for k, v in sorted_tuples]\n",
    "\n",
    "    # We try to find minimum number of patches required to break image by checking with a fixed number of gradient updates\n",
    "    for k in range(1, max_num_patches+1):\n",
    "        img = copy.deepcopy(base_img).requires_grad_(\n",
    "            True)  # Resetting image after each failure\n",
    "        for i in range(iterations):\n",
    "            pred = model(img)\n",
    "            loss_val = loss(pred, label)\n",
    "            grad_val = autograd.grad(loss_val, img)\n",
    "            logging.debug(grad_val[0].shape)\n",
    "            for p in range(k):\n",
    "                p_x, p_y = grad_mags_sorted[p][0]\n",
    "                img[:, :, p_x:p_x+patch_size, p_y:p_y+patch_size].data += (lr * \\\n",
    "                    (grad_val[0][:, :, p_x:p_x+patch_size, p_y:p_y+patch_size]).sign()) ## Infinity norm constraint. Here, we are constructing a mixed norm attack\n",
    "            if clip_flag:\n",
    "                img = torch.max(torch.min(img, img+epsilon), img-epsilon)\n",
    "                img.clamp(bounds[0], bounds[1])\n",
    "            with torch.no_grad():\n",
    "                pred2 = model(img)\n",
    "                if torch.argmax(pred2, dim=1) != label:\n",
    "                    logging.info('Image broken at iteration {i}')\n",
    "                    succ = 1\n",
    "                    break\n",
    "        if succ == 1:\n",
    "            break\n",
    "    return succ, base_img, img, k\n",
    "\n",
    "\n",
    "def build_parser():\n",
    "    parser = argparse.ArgumentParser()\n",
    "    parser.add_argument(\n",
    "        '-o', '--outdir', help='Output directory', default='results/')\n",
    "    #parser.add_argument('-m', '--model', help='Model path')\n",
    "    parser.add_argument('-mt', '--mtype', help='Model type', choices=list(mtype_dict.keys()), default='vit224')\n",
    "    parser.add_argument('-dpath', help='Data path',\n",
    "                        default='/data/datasets/Imagenet/val')\n",
    "    parser.add_argument('--gpu', help='gpu to use', default=0, type=int)\n",
    " #   parser.add_argument('-at', '--att_type', help='Attack type',\n",
    " #                       choices=['pgdl2', 'pgdlinf', 'gd'], default='pgdlinf')\n",
    "    parser.add_argument(\n",
    "        '-it', '--iteration', help='No. of iterations', type=int, default=40)\n",
    "    parser.add_argument('-mp', '--max_patches',\n",
    "                        help='Max number of patches allowed to be perturbed', type=int, default=20)\n",
    "    parser.add_argument('-ni', '--num_images',\n",
    "                        help='Number of images to be tested', default=100, type=int)\n",
    "    parser.add_argument(\n",
    "        '-clip', '--clip', help='Clip perturbations to original image intensities', action='store_true')\n",
    "    parser.add_argument('-lr', '--lr', help='Step size',\n",
    "                        type=float, default=0.033)\n",
    "    parser.add_argument('-ps', '--patch_size', help='Patch size', default=16, type=int)\n",
    "    parser.add_argument('-si', '--start_idx', help='Start index for imagenet', default=0, type=int)\n",
    "    parser.add_argument('-eps', '--epsilon', help='Epsilon bound for mixed norm attacks', default=1.0, type=float)\n",
    "    #parser.add_argument('-ns', '--skipimages', help='No. of images to skip', default=20, type=int)\n",
    "    return parser\n"
   ]
  },
  {
   "cell_type": "code",
   "execution_count": 2,
   "id": "74110da6",
   "metadata": {},
   "outputs": [
    {
     "name": "stdout",
     "output_type": "stream",
     "text": [
      "2\n"
     ]
    }
   ],
   "source": [
    "x = 2\n",
    "print(x)"
   ]
  },
  {
   "cell_type": "code",
   "execution_count": 3,
   "id": "188aac48",
   "metadata": {},
   "outputs": [],
   "source": [
    "device = torch.device(f'cuda:1' if torch.cuda.is_available() else 'cpu')\n"
   ]
  },
  {
   "cell_type": "code",
   "execution_count": 4,
   "id": "bcb13999",
   "metadata": {},
   "outputs": [
    {
     "name": "stderr",
     "output_type": "stream",
     "text": [
      "/ext3/miniconda3/lib/python3.9/site-packages/torch/functional.py:504: UserWarning: torch.meshgrid: in an upcoming release, it will be required to pass the indexing argument. (Triggered internally at ../aten/src/ATen/native/TensorShape.cpp:3190.)\n",
      "  return _VF.meshgrid(tensors, **kwargs)  # type: ignore[attr-defined]\n"
     ]
    },
    {
     "name": "stdout",
     "output_type": "stream",
     "text": [
      "{'input_size': (3, 224, 224), 'interpolation': 'bicubic', 'mean': (0.485, 0.456, 0.406), 'std': (0.229, 0.224, 0.225), 'crop_pct': 0.9, 'crop_mode': 'center'}\n",
      "{'input_size': (3, 224, 224), 'interpolation': 'bicubic', 'mean': (0.485, 0.456, 0.406), 'std': (0.229, 0.224, 0.225), 'crop_pct': 0.9, 'crop_mode': 'center'} [-2.1179039301310043, 2.2489082969432315] 0.017124753831663668\n"
     ]
    }
   ],
   "source": [
    "model_name = mtype_dict['swin224']\n",
    "model = create_model(model_name, pretrained=True)\n",
    "# model.reset_classifier(num_classes=10)\n",
    "config = resolve_data_config({}, model=model)\n",
    "print(config)\n",
    "transforms = create_transform(**config)\n",
    "#cifar10_test = CIFAR10(root='./datasets/test/', download=True, train=False, transform=transforms)\n",
    "#indices = np.load('imagenet_indices.npy')\n",
    "indices = np.load('indices_10k.npy')\n",
    "imagenet_val = Subset(\n",
    "    ImageNet(root='/imagenet/', split='val', transform=transforms), indices)\n",
    "test_dl = DataLoader(imagenet_val, batch_size=1)\n",
    "\n",
    "model = model.to(device)\n",
    "#sd = torch.load('cifar10_vit.pth', map_location='cuda:0')\n",
    "# model.load_state_dict(sd)\n",
    "numparams = 0\n",
    "for params in model.parameters():\n",
    "    numparams += prod(params)\n",
    "\n",
    "model.eval()\n",
    "# TODO:Figure out a smarter way of calculating image bounds\n",
    "bounds = [(0-config['mean'][0])/config['std'][0],\n",
    "          (1-config['mean'][0])/config['std'][0]]\n",
    "eps_val = 1/255\n",
    "lr = 0.1\n",
    "eps_val = (eps_val)/config['std'][0]\n",
    "lr = lr/config['std'][0]\n",
    "print(config, bounds, eps_val)\n",
    "clean_acc = 0.0"
   ]
  },
  {
   "cell_type": "code",
   "execution_count": 5,
   "id": "63ccc6cc",
   "metadata": {},
   "outputs": [
    {
     "name": "stdout",
     "output_type": "stream",
     "text": [
      "Defaulting to user installation because normal site-packages is not writeable\n",
      "Requirement already satisfied: patchify in /scratch/sca321/home/lib/python3.9/site-packages (0.2.3)\n",
      "Requirement already satisfied: numpy<2,>=1 in /ext3/miniconda3/lib/python3.9/site-packages (from patchify) (1.23.4)\n"
     ]
    }
   ],
   "source": [
    "!pip install patchify"
   ]
  },
  {
   "cell_type": "code",
   "execution_count": 6,
   "id": "f4247cb8",
   "metadata": {},
   "outputs": [
    {
     "name": "stdout",
     "output_type": "stream",
     "text": [
      "torch.Size([3, 224, 224])\n",
      "torch.Size([3, 224, 224])\n",
      "(1, 2, 2, 3, 112, 112)\n",
      "(2, 2, 3, 112, 112)\n"
     ]
    }
   ],
   "source": [
    "%matplotlib inline\n",
    "from PIL import Image\n",
    "\n",
    "from matplotlib import pyplot as plt\n",
    "from matplotlib import image as mpimg\n",
    "num_images =0\n",
    "for idx, (img, label) in enumerate(test_dl):\n",
    "    if idx > num_images:\n",
    "        break\n",
    "    img = img.to(device)\n",
    "    #print(img.min(), img.max())\n",
    "    label = label.to(device)\n",
    "    #print(img.shape)\n",
    "    bs, ch, sx, sy = img.shape \n",
    "    #image = mpimg.imread(img)\n",
    "    #plt.imshow(img)\n",
    "    image = img[0]\n",
    "    print(image.shape)\n",
    "    #plt.imshow(image.permute(1, 2, 0))\n",
    "    #plt.show()\n",
    "    \n",
    "    #let's try to get the patches now\n",
    "    from patchify import patchify\n",
    "    print(image.shape)\n",
    "    #print(image)\n",
    "    image2 = np.asarray(image)\n",
    "    #print(image2)\n",
    "    patches = patchify(image2, (3,112,112), step=112) \n",
    "    print(patches.shape)\n",
    "    #print(patches)\n",
    "    patches = np.squeeze(patches, axis=0)\n",
    "    print(patches.shape)\n",
    "    #print(patches[0][1].shape)\n",
    "    \n",
    "\n",
    "\n",
    "    #plt.imshow(torch.from_numpy(patches[1][1]).permute(1,2,0))\n",
    "    \n",
    "#     for i in range(patches.shape[0]):\n",
    "#         for j in range(patches.shape[1]):\n",
    "#             patch = patches[i, j, 0]\n",
    "#             patch = Image.fromarray(patch)\n",
    "            #num = i * patches.shape[1] + j\n",
    "            #patch.save(f\"patch_{num}.jpeg\")\n",
    "\n"
   ]
  },
  {
   "cell_type": "code",
   "execution_count": 7,
   "id": "632151e0",
   "metadata": {},
   "outputs": [
    {
     "name": "stdout",
     "output_type": "stream",
     "text": [
      "torch.Size([3, 224, 224])\n"
     ]
    },
    {
     "name": "stderr",
     "output_type": "stream",
     "text": [
      "Clipping input data to the valid range for imshow with RGB data ([0..1] for floats or [0..255] for integers).\n"
     ]
    },
    {
     "name": "stdout",
     "output_type": "stream",
     "text": [
      "torch.Size([1, 2, 2, 3, 112, 112])\n"
     ]
    },
    {
     "data": {
      "text/plain": [
       "<matplotlib.image.AxesImage at 0x7f8e51dba370>"
      ]
     },
     "execution_count": 7,
     "metadata": {},
     "output_type": "execute_result"
    },
    {
     "data": {
      "image/png": "[encoded data removed]",
      "text/plain": [
       "<Figure size 640x480 with 1 Axes>"
      ]
     },
     "metadata": {},
     "output_type": "display_data"
    }
   ],
   "source": [
    "from einops import rearrange, reduce, repeat\n",
    "print(image.shape)\n",
    "y = rearrange(img, '1 c (b1 l) (b2 w) -> 1 b1 b2 c l w', b1 = 2, b2 = 2)\n",
    "print(y.shape)\n",
    "plt.imshow(y[0][1][1].permute(1,2,0))"
   ]
  },
  {
   "cell_type": "code",
   "execution_count": 8,
   "id": "6a6dcd9a",
   "metadata": {},
   "outputs": [
    {
     "name": "stdout",
     "output_type": "stream",
     "text": [
      "torch.Size([1, 2, 2, 3, 112, 112])\n"
     ]
    }
   ],
   "source": [
    "xx = get_patches(img,16)\n",
    "#print(xx)\n",
    "#print(xx.shape)\n",
    "y = rearrange(img, '1 c (b1 l) (b2 w) -> 1 b1 b2 c l w', b1 = 2, b2 = 2)\n",
    "#print(y)\n",
    "print(y.shape)"
   ]
  },
  {
   "cell_type": "code",
   "execution_count": 9,
   "id": "6df994fa",
   "metadata": {},
   "outputs": [
    {
     "name": "stdout",
     "output_type": "stream",
     "text": [
      "[((176, 176), tensor(2.1500)), ((208, 80), tensor(2.0110)), ((112, 128), tensor(1.9903)), ((112, 0), tensor(1.9406)), ((176, 160), tensor(1.8696)), ((160, 176), tensor(1.8605)), ((192, 160), tensor(1.7038)), ((128, 80), tensor(1.5519)), ((128, 144), tensor(1.4910)), ((96, 48), tensor(1.4482)), ((80, 64), tensor(1.3747)), ((96, 64), tensor(1.2846)), ((192, 112), tensor(1.2665)), ((160, 0), tensor(1.2455)), ((112, 64), tensor(1.2302)), ((96, 96), tensor(1.1866)), ((144, 128), tensor(1.1528)), ((208, 96), tensor(1.1153)), ((96, 80), tensor(1.1115)), ((144, 112), tensor(1.0793)), ((144, 144), tensor(1.0534)), ((112, 112), tensor(1.0345)), ((176, 96), tensor(1.0174)), ((160, 96), tensor(1.0082)), ((128, 128), tensor(0.9937)), ((128, 96), tensor(0.9901)), ((144, 48), tensor(0.9691)), ((160, 80), tensor(0.9678)), ((208, 112), tensor(0.9516)), ((0, 96), tensor(0.9348)), ((16, 176), tensor(0.9098)), ((208, 128), tensor(0.8971)), ((192, 0), tensor(0.8890)), ((160, 64), tensor(0.8783)), ((208, 0), tensor(0.8676)), ((0, 80), tensor(0.8657)), ((128, 48), tensor(0.8637)), ((80, 48), tensor(0.8578)), ((32, 112), tensor(0.8551)), ((208, 176), tensor(0.8078)), ((0, 112), tensor(0.8029)), ((176, 32), tensor(0.7955)), ((96, 112), tensor(0.7938)), ((144, 64), tensor(0.7832)), ((192, 144), tensor(0.7675)), ((208, 48), tensor(0.7634)), ((208, 16), tensor(0.7632)), ((16, 64), tensor(0.7612)), ((160, 112), tensor(0.7584)), ((208, 64), tensor(0.7488)), ((160, 48), tensor(0.7458)), ((176, 128), tensor(0.7408)), ((96, 32), tensor(0.7330)), ((80, 80), tensor(0.7216)), ((112, 96), tensor(0.7147)), ((112, 192), tensor(0.7134)), ((128, 0), tensor(0.7003)), ((144, 0), tensor(0.6952)), ((144, 80), tensor(0.6904)), ((144, 96), tensor(0.6845)), ((192, 48), tensor(0.6832)), ((160, 208), tensor(0.6827)), ((96, 0), tensor(0.6760)), ((64, 0), tensor(0.6746)), ((208, 192), tensor(0.6691)), ((208, 144), tensor(0.6652)), ((0, 144), tensor(0.6585)), ((208, 160), tensor(0.6581)), ((128, 112), tensor(0.6555)), ((160, 128), tensor(0.6555)), ((16, 80), tensor(0.6553)), ((96, 208), tensor(0.6499)), ((96, 192), tensor(0.6444)), ((176, 144), tensor(0.6388)), ((144, 16), tensor(0.6363)), ((80, 96), tensor(0.6326)), ((208, 208), tensor(0.6324)), ((64, 80), tensor(0.6262)), ((192, 176), tensor(0.6257)), ((128, 160), tensor(0.6248)), ((192, 64), tensor(0.6226)), ((176, 0), tensor(0.6212)), ((128, 208), tensor(0.6091)), ((192, 96), tensor(0.6079)), ((112, 144), tensor(0.6065)), ((176, 16), tensor(0.6054)), ((192, 80), tensor(0.6032)), ((176, 208), tensor(0.6016)), ((128, 64), tensor(0.6003)), ((160, 160), tensor(0.5983)), ((160, 192), tensor(0.5951)), ((48, 128), tensor(0.5915)), ((112, 208), tensor(0.5898)), ((144, 192), tensor(0.5882)), ((176, 80), tensor(0.5853)), ((64, 96), tensor(0.5761)), ((48, 32), tensor(0.5755)), ((32, 176), tensor(0.5736)), ((144, 160), tensor(0.5678)), ((128, 16), tensor(0.5657)), ((128, 32), tensor(0.5552)), ((160, 16), tensor(0.5524)), ((144, 32), tensor(0.5516)), ((48, 160), tensor(0.5514)), ((192, 16), tensor(0.5484)), ((48, 96), tensor(0.5434)), ((192, 192), tensor(0.5431)), ((144, 176), tensor(0.5406)), ((128, 192), tensor(0.5355)), ((144, 208), tensor(0.5321)), ((48, 112), tensor(0.5310)), ((48, 48), tensor(0.5306)), ((192, 128), tensor(0.5251)), ((176, 112), tensor(0.5151)), ((176, 48), tensor(0.5081)), ((0, 176), tensor(0.5043)), ((96, 128), tensor(0.5012)), ((160, 144), tensor(0.4997)), ((112, 160), tensor(0.4949)), ((64, 48), tensor(0.4941)), ((112, 80), tensor(0.4876)), ((192, 32), tensor(0.4874)), ((64, 64), tensor(0.4856)), ((0, 64), tensor(0.4823)), ((112, 48), tensor(0.4817)), ((112, 176), tensor(0.4787)), ((160, 32), tensor(0.4758)), ((112, 32), tensor(0.4718)), ((16, 112), tensor(0.4707)), ((192, 208), tensor(0.4590)), ((48, 80), tensor(0.4588)), ((32, 0), tensor(0.4584)), ((48, 0), tensor(0.4522)), ((0, 48), tensor(0.4480)), ((64, 112), tensor(0.4376)), ((0, 0), tensor(0.4328)), ((176, 64), tensor(0.4257)), ((64, 192), tensor(0.4152)), ((16, 96), tensor(0.4107)), ((80, 144), tensor(0.4001)), ((80, 176), tensor(0.3930)), ((96, 144), tensor(0.3919)), ((64, 208), tensor(0.3912)), ((32, 144), tensor(0.3911)), ((0, 208), tensor(0.3865)), ((208, 32), tensor(0.3861)), ((80, 112), tensor(0.3796)), ((32, 64), tensor(0.3790)), ((16, 160), tensor(0.3783)), ((32, 16), tensor(0.3774)), ((32, 48), tensor(0.3759)), ((64, 32), tensor(0.3736)), ((16, 16), tensor(0.3695)), ((48, 144), tensor(0.3687)), ((80, 192), tensor(0.3687)), ((0, 128), tensor(0.3667)), ((0, 32), tensor(0.3622)), ((16, 48), tensor(0.3495)), ((16, 0), tensor(0.3446)), ((32, 128), tensor(0.3445)), ((80, 128), tensor(0.3442)), ((96, 176), tensor(0.3346)), ((176, 192), tensor(0.3344)), ((64, 16), tensor(0.3323)), ((16, 208), tensor(0.3313)), ((16, 192), tensor(0.3246)), ((80, 0), tensor(0.3244)), ((96, 160), tensor(0.3237)), ((80, 208), tensor(0.3218)), ((0, 160), tensor(0.3185)), ((16, 144), tensor(0.3171)), ((0, 16), tensor(0.3075)), ((80, 160), tensor(0.2970)), ((48, 176), tensor(0.2964)), ((112, 16), tensor(0.2923)), ((128, 176), tensor(0.2885)), ((64, 128), tensor(0.2864)), ((48, 208), tensor(0.2819)), ((32, 32), tensor(0.2815)), ((32, 96), tensor(0.2695)), ((32, 208), tensor(0.2647)), ((96, 16), tensor(0.2573)), ((64, 176), tensor(0.2506)), ((32, 192), tensor(0.2483)), ((48, 192), tensor(0.2461)), ((32, 160), tensor(0.2435)), ((0, 192), tensor(0.2411)), ((16, 32), tensor(0.2394)), ((16, 128), tensor(0.2316)), ((48, 64), tensor(0.2310)), ((80, 32), tensor(0.2070)), ((64, 160), tensor(0.1927)), ((64, 144), tensor(0.1868)), ((80, 16), tensor(0.1715)), ((48, 16), tensor(0.1675)), ((32, 80), tensor(0.0942))]\n"
     ]
    }
   ],
   "source": [
    "loss = nn.CrossEntropyLoss()\n",
    "base_img = copy.deepcopy(img)\n",
    "img = img.to(device)\n",
    "img.requires_grad_(True)\n",
    "bs, ch, sx, sy = img.size()\n",
    "label = label.to(device)\n",
    "#print(f'epsilon:{epsilon}')\n",
    "# patch_size = 16\n",
    "#l2_norms = {}\n",
    "#max_val = 0.0\n",
    "#max_i, max_j = 0,0\n",
    "succ = 0\n",
    "grad_mags = {}\n",
    "# Calculating most salient patches\n",
    "pred = model(img)\n",
    "loss_val = loss(pred, label)\n",
    "grad_val = autograd.grad(loss_val, img)\n",
    "patch_size = 16\n",
    "\n",
    "for i in range(0, sx, patch_size):\n",
    "    for j in range(0, sy, patch_size):\n",
    "        grad_mags[(i, j)] = torch.norm(\n",
    "            grad_val[0][:, :, i:i+patch_size, j:j+patch_size], p=\"fro\")\n",
    "sorted_tuples = sorted(grad_mags.items(), key=lambda x: x[1], reverse=True)\n",
    "grad_mags_sorted = [(k, v) for k, v in sorted_tuples]\n",
    "print(grad_mags_sorted)"
   ]
  },
  {
   "cell_type": "code",
   "execution_count": 10,
   "id": "fa354fdc",
   "metadata": {},
   "outputs": [],
   "source": [
    "img2 = copy.deepcopy(img).to(device).requires_grad_(True)  # Resetting image after each failure\n",
    "\n",
    "#just get the mask for top 5 values and take that mask and use it here\n",
    "#can even make the iterations into bucketed fashion, so that it doesn't check every iteration - like every 5 iterations. \n",
    "# wasie bhi we are reports for 32 max iteration -> so, what's the point for broader anlaysis\n",
    "#if we wnat to compare some deeper analysis, let's do that\n",
    "for p in range(5):\n",
    "    p_x, p_y = grad_mags_sorted[p][0]\n",
    "    x = grad_val[0][:, :, p_x:p_x+patch_size, p_y:p_y+patch_size]\n",
    "    img2[:, :, p_x:p_x+patch_size, p_y:p_y+patch_size].data += (lr * (x).sign())\n",
    "#print(img2)    \n",
    "#this image should match the final one we get"
   ]
  },
  {
   "cell_type": "code",
   "execution_count": 11,
   "id": "1773cd3a",
   "metadata": {},
   "outputs": [
    {
     "name": "stdout",
     "output_type": "stream",
     "text": [
      "tensor([-0.0014,  0.0044, -0.0008,  0.0047, -0.0165,  0.0071,  0.0298,  0.0089])\n",
      "torch.Size([1, 3, 224, 224])\n",
      "torch.Size([1, 14, 14, 3, 16, 16])\n",
      "tensor([-0.0014,  0.0044, -0.0008,  0.0047, -0.0165,  0.0071,  0.0298,  0.0089,\n",
      "        -0.0190, -0.0357, -0.0319, -0.0195, -0.0178,  0.0063,  0.0183,  0.0114])\n",
      "torch.Size([1, 14, 14, 3])\n",
      "tensor([[[0.4328, 0.3075, 0.3622, 0.4480, 0.4823, 0.8657, 0.9348, 0.8029,\n",
      "          0.3667, 0.6585, 0.3185, 0.5043, 0.2411, 0.3865],\n",
      "         [0.3446, 0.3695, 0.2394, 0.3495, 0.7612, 0.6553, 0.4107, 0.4707,\n",
      "          0.2316, 0.3171, 0.3783, 0.9098, 0.3246, 0.3313],\n",
      "         [0.4584, 0.3774, 0.2815, 0.3759, 0.3790, 0.0942, 0.2695, 0.8551,\n",
      "          0.3445, 0.3911, 0.2435, 0.5736, 0.2483, 0.2647],\n",
      "         [0.4522, 0.1675, 0.5755, 0.5306, 0.2310, 0.4588, 0.5434, 0.5310,\n",
      "          0.5915, 0.3687, 0.5514, 0.2964, 0.2461, 0.2819],\n",
      "         [0.6746, 0.3323, 0.3736, 0.4941, 0.4856, 0.6262, 0.5761, 0.4376,\n",
      "          0.2864, 0.1868, 0.1927, 0.2506, 0.4152, 0.3912],\n",
      "         [0.3244, 0.1715, 0.2070, 0.8578, 1.3747, 0.7216, 0.6326, 0.3796,\n",
      "          0.3442, 0.4001, 0.2970, 0.3930, 0.3687, 0.3218],\n",
      "         [0.6760, 0.2573, 0.7330, 1.4482, 1.2846, 1.1115, 1.1866, 0.7938,\n",
      "          0.5012, 0.3919, 0.3237, 0.3346, 0.6444, 0.6499],\n",
      "         [1.9406, 0.2923, 0.4718, 0.4817, 1.2302, 0.4876, 0.7147, 1.0345,\n",
      "          1.9903, 0.6065, 0.4949, 0.4787, 0.7134, 0.5898],\n",
      "         [0.7003, 0.5657, 0.5552, 0.8637, 0.6003, 1.5519, 0.9901, 0.6555,\n",
      "          0.9937, 1.4910, 0.6248, 0.2885, 0.5355, 0.6091],\n",
      "         [0.6952, 0.6363, 0.5516, 0.9691, 0.7832, 0.6904, 0.6845, 1.0793,\n",
      "          1.1528, 1.0534, 0.5678, 0.5406, 0.5882, 0.5321],\n",
      "         [1.2455, 0.5524, 0.4758, 0.7458, 0.8783, 0.9678, 1.0082, 0.7584,\n",
      "          0.6555, 0.4997, 0.5983, 1.8605, 0.5951, 0.6827],\n",
      "         [0.6212, 0.6054, 0.7955, 0.5081, 0.4257, 0.5853, 1.0174, 0.5151,\n",
      "          0.7408, 0.6388, 1.8696, 2.1500, 0.3344, 0.6016],\n",
      "         [0.8890, 0.5484, 0.4874, 0.6832, 0.6226, 0.6032, 0.6079, 1.2665,\n",
      "          0.5251, 0.7675, 1.7038, 0.6257, 0.5431, 0.4590],\n",
      "         [0.8676, 0.7632, 0.3861, 0.7634, 0.7488, 2.0110, 1.1153, 0.9516,\n",
      "          0.8971, 0.6652, 0.6581, 0.8078, 0.6691, 0.6324]]])\n"
     ]
    }
   ],
   "source": [
    "#basic sanity checks and norm calc sanity checks\n",
    "firstrow = grad_val[0][0][0][0]\n",
    "print(firstrow[:8])\n",
    "print(grad_val[0].shape)\n",
    "grad_val2 = rearrange(grad_val[0], '1 c (l ps1) (w ps2) -> 1 l w c ps1 ps2', ps1=16, ps2 = 16)\n",
    "print(grad_val2.shape)\n",
    "print(grad_val2[0][0][0][0][0])\n",
    "xx = torch.norm(grad_val2,dim=(4,5),p=\"fro\")\n",
    "print(xx.shape)\n",
    "final = torch.norm(xx,dim=(3),p=\"fro\")\n",
    "print(final)\n"
   ]
  },
  {
   "cell_type": "code",
   "execution_count": 12,
   "id": "2de59c85",
   "metadata": {},
   "outputs": [
    {
     "name": "stdout",
     "output_type": "stream",
     "text": [
      "torch.Size([14, 14, 3, 16, 16])\n",
      "torch.Size([14, 14])\n",
      "[[11 11]\n",
      " [13  5]\n",
      " [ 7  8]\n",
      " [ 7  0]\n",
      " [11 10]]\n",
      "tensor([[False, False, False, False, False, False, False, False, False, False,\n",
      "         False, False, False, False],\n",
      "        [False, False, False, False, False, False, False, False, False, False,\n",
      "         False, False, False, False],\n",
      "        [False, False, False, False, False, False, False, False, False, False,\n",
      "         False, False, False, False],\n",
      "        [False, False, False, False, False, False, False, False, False, False,\n",
      "         False, False, False, False],\n",
      "        [False, False, False, False, False, False, False, False, False, False,\n",
      "         False, False, False, False],\n",
      "        [False, False, False, False, False, False, False, False, False, False,\n",
      "         False, False, False, False],\n",
      "        [False, False, False, False, False, False, False, False, False, False,\n",
      "         False, False, False, False],\n",
      "        [ True, False, False, False, False, False, False, False,  True, False,\n",
      "         False, False, False, False],\n",
      "        [False, False, False, False, False, False, False, False, False, False,\n",
      "         False, False, False, False],\n",
      "        [False, False, False, False, False, False, False, False, False, False,\n",
      "         False, False, False, False],\n",
      "        [False, False, False, False, False, False, False, False, False, False,\n",
      "         False, False, False, False],\n",
      "        [False, False, False, False, False, False, False, False, False, False,\n",
      "          True,  True, False, False],\n",
      "        [False, False, False, False, False, False, False, False, False, False,\n",
      "         False, False, False, False],\n",
      "        [False, False, False, False, False,  True, False, False, False, False,\n",
      "         False, False, False, False]])\n"
     ]
    }
   ],
   "source": [
    "import numpy as np\n",
    "\n",
    "def get_top_k_indices(mytensor, k):\n",
    "    v, i = torch.topk(mytensor.flatten(), k)        \n",
    "    mask = mytensor.ge(v[k-1])\n",
    "    print(np.array(np.unravel_index(i.numpy(), mytensor.shape)).T) #this returns the list of indices if we want\n",
    "    return mask\n",
    "    \n",
    "grad_val2 = rearrange(grad_val[0], '1 c (l ps1) (w ps2) -> l w c ps1 ps2', ps1=16, ps2 = 16)\n",
    "print(grad_val2.shape)\n",
    "xx = torch.norm(grad_val2,dim=(3,4),p=\"fro\")\n",
    "final = torch.norm(xx,dim=(2),p=\"fro\")\n",
    "print(final.shape)\n",
    "get_indices = get_top_k_indices(final,5)\n",
    "print(get_indices) #verifiying indices of top 5 - they llook good\n"
   ]
  },
  {
   "cell_type": "code",
   "execution_count": 13,
   "id": "6221c378",
   "metadata": {},
   "outputs": [
    {
     "name": "stdout",
     "output_type": "stream",
     "text": [
      "torch.Size([14, 14, 3, 16, 16])\n"
     ]
    }
   ],
   "source": [
    "get_indices_repeat = get_indices.unsqueeze(2).unsqueeze(3).unsqueeze(4).repeat(1,1,3,16,16)\n",
    "fil_grad_val2 = grad_val2*get_indices_repeat\n",
    "print(fil_grad_val2.shape)\n",
    "grad_val3 = rearrange(fil_grad_val2, 'x1 x2 c ps1 ps2 -> 1 c (x1 ps1) (x2 ps2)')"
   ]
  },
  {
   "cell_type": "code",
   "execution_count": 14,
   "id": "83875d86",
   "metadata": {},
   "outputs": [
    {
     "name": "stdout",
     "output_type": "stream",
     "text": [
      "tensor([[[[-0.7650, -0.7993, -0.7993,  ..., -1.1075, -1.0904, -1.1247],\n",
      "          [-0.7479, -0.7650, -0.7650,  ..., -1.1075, -1.0562, -1.0904],\n",
      "          [-0.7308, -0.7137, -0.7137,  ..., -1.1418, -1.1075, -1.0904],\n",
      "          ...,\n",
      "          [ 2.1119,  2.1119,  2.0948,  ..., -0.0629, -0.1143, -0.1314],\n",
      "          [ 2.1290,  2.1119,  2.1119,  ..., -0.0972, -0.1657, -0.1657],\n",
      "          [ 2.1119,  2.1290,  2.1290,  ..., -0.1486, -0.1999, -0.1828]],\n",
      "\n",
      "         [[-0.6702, -0.6877, -0.6877,  ..., -1.0378, -1.0553, -1.0728],\n",
      "          [-0.6352, -0.6527, -0.6527,  ..., -1.0553, -1.0553, -1.0728],\n",
      "          [-0.6176, -0.6001, -0.6001,  ..., -1.0378, -1.0203, -1.0378],\n",
      "          ...,\n",
      "          [ 2.3410,  2.3585,  2.3585,  ...,  0.0651,  0.0126,  0.0126],\n",
      "          [ 2.3410,  2.3410,  2.3585,  ...,  0.0476, -0.0224, -0.0049],\n",
      "          [ 2.3585,  2.3761,  2.3761,  ...,  0.0301,  0.0126,  0.0126]],\n",
      "\n",
      "         [[-0.4450, -0.4798, -0.4624,  ..., -0.8633, -0.8981, -0.9330],\n",
      "          [-0.4101, -0.4275, -0.4450,  ..., -0.8981, -0.8807, -0.8981],\n",
      "          [-0.3927, -0.3753, -0.4101,  ..., -0.8807, -0.8633, -0.8633],\n",
      "          ...,\n",
      "          [ 2.6051,  2.6226,  2.6226,  ...,  0.2871,  0.2696,  0.2522],\n",
      "          [ 2.6226,  2.6051,  2.6226,  ...,  0.2871,  0.2348,  0.1999],\n",
      "          [ 2.6226,  2.6400,  2.6400,  ...,  0.2696,  0.2348,  0.2173]]]])\n"
     ]
    }
   ],
   "source": [
    "img3 = copy.deepcopy(img).to(device).requires_grad_(True)  # Resetting image after each failure\n",
    "img3.data += lr*(grad_val3.sign())\n",
    "print(img3.data)"
   ]
  },
  {
   "cell_type": "code",
   "execution_count": 19,
   "id": "061cc8db",
   "metadata": {},
   "outputs": [
    {
     "name": "stdout",
     "output_type": "stream",
     "text": [
      "torch.Size([1, 3, 224, 224])\n",
      "tensor([[[[-0.7650, -0.7993, -0.7993,  ..., -1.1075, -1.0904, -1.1247],\n",
      "          [-0.7479, -0.7650, -0.7650,  ..., -1.1075, -1.0562, -1.0904],\n",
      "          [-0.7308, -0.7137, -0.7137,  ..., -1.1418, -1.1075, -1.0904],\n",
      "          ...,\n",
      "          [ 2.1119,  2.1119,  2.0948,  ..., -0.0629, -0.1143, -0.1314],\n",
      "          [ 2.1290,  2.1119,  2.1119,  ..., -0.0972, -0.1657, -0.1657],\n",
      "          [ 2.1119,  2.1290,  2.1290,  ..., -0.1486, -0.1999, -0.1828]],\n",
      "\n",
      "         [[-0.6702, -0.6877, -0.6877,  ..., -1.0378, -1.0553, -1.0728],\n",
      "          [-0.6352, -0.6527, -0.6527,  ..., -1.0553, -1.0553, -1.0728],\n",
      "          [-0.6176, -0.6001, -0.6001,  ..., -1.0378, -1.0203, -1.0378],\n",
      "          ...,\n",
      "          [ 2.3410,  2.3585,  2.3585,  ...,  0.0651,  0.0126,  0.0126],\n",
      "          [ 2.3410,  2.3410,  2.3585,  ...,  0.0476, -0.0224, -0.0049],\n",
      "          [ 2.3585,  2.3761,  2.3761,  ...,  0.0301,  0.0126,  0.0126]],\n",
      "\n",
      "         [[-0.4450, -0.4798, -0.4624,  ..., -0.8633, -0.8981, -0.9330],\n",
      "          [-0.4101, -0.4275, -0.4450,  ..., -0.8981, -0.8807, -0.8981],\n",
      "          [-0.3927, -0.3753, -0.4101,  ..., -0.8807, -0.8633, -0.8633],\n",
      "          ...,\n",
      "          [ 2.6051,  2.6226,  2.6226,  ...,  0.2871,  0.2696,  0.2522],\n",
      "          [ 2.6226,  2.6051,  2.6226,  ...,  0.2871,  0.2348,  0.1999],\n",
      "          [ 2.6226,  2.6400,  2.6400,  ...,  0.2696,  0.2348,  0.2173]]]],\n",
      "       requires_grad=True)\n",
      "tensor(True)\n",
      "tensor(False)\n",
      "tensor([True, True, True, True, True, True, True, True, True, True, True, True,\n",
      "        True, True, True, True, True, True, True, True, True, True, True, True,\n",
      "        True, True, True, True, True, True, True, True, True, True, True, True,\n",
      "        True, True, True, True, True, True, True, True, True, True, True, True,\n",
      "        True, True, True, True, True, True, True, True, True, True, True, True,\n",
      "        True, True, True, True, True, True, True, True, True, True, True, True,\n",
      "        True, True, True, True, True, True, True, True, True, True, True, True,\n",
      "        True, True, True, True, True, True, True, True, True, True, True, True,\n",
      "        True, True, True, True, True, True, True, True, True, True, True, True,\n",
      "        True, True, True, True, True, True, True, True, True, True, True, True,\n",
      "        True, True, True, True, True, True, True, True, True, True, True, True,\n",
      "        True, True, True, True, True, True, True, True, True, True, True, True,\n",
      "        True, True, True, True, True, True, True, True, True, True, True, True,\n",
      "        True, True, True, True, True, True, True, True, True, True, True, True,\n",
      "        True, True, True, True, True, True, True, True, True, True, True, True,\n",
      "        True, True, True, True, True, True, True, True, True, True, True, True,\n",
      "        True, True, True, True, True, True, True, True, True, True, True, True,\n",
      "        True, True, True, True, True, True, True, True, True, True, True, True,\n",
      "        True, True, True, True, True, True, True, True])\n",
      "tensor([ True,  True,  True,  True,  True,  True,  True,  True,  True,  True,\n",
      "         True,  True,  True,  True,  True,  True,  True,  True,  True,  True,\n",
      "         True,  True,  True,  True,  True,  True,  True,  True,  True,  True,\n",
      "         True,  True,  True,  True,  True,  True,  True,  True,  True,  True,\n",
      "         True,  True,  True,  True,  True,  True,  True,  True,  True,  True,\n",
      "         True,  True,  True,  True,  True,  True,  True,  True,  True,  True,\n",
      "         True,  True,  True,  True,  True,  True,  True,  True,  True,  True,\n",
      "         True,  True,  True,  True,  True,  True,  True,  True,  True,  True,\n",
      "         True,  True,  True,  True,  True,  True,  True,  True,  True,  True,\n",
      "         True,  True,  True,  True,  True,  True,  True,  True,  True,  True,\n",
      "         True,  True,  True,  True,  True,  True,  True,  True,  True,  True,\n",
      "         True,  True,  True,  True,  True,  True,  True,  True,  True,  True,\n",
      "         True,  True,  True,  True,  True,  True,  True,  True,  True,  True,\n",
      "         True,  True,  True,  True,  True,  True,  True,  True,  True,  True,\n",
      "         True,  True,  True,  True,  True,  True,  True,  True,  True,  True,\n",
      "         True,  True,  True,  True,  True,  True,  True,  True,  True,  True,\n",
      "        False, False, False, False, False, False, False, False, False, False,\n",
      "        False, False, False, False, False, False, False, False, False, False,\n",
      "        False, False, False, False, False, False, False, False, False, False,\n",
      "        False, False,  True,  True,  True,  True,  True,  True,  True,  True,\n",
      "         True,  True,  True,  True,  True,  True,  True,  True,  True,  True,\n",
      "         True,  True,  True,  True,  True,  True,  True,  True,  True,  True,\n",
      "         True,  True,  True,  True])\n"
     ]
    }
   ],
   "source": [
    "print(img2.shape)\n",
    "print(img2)\n",
    "print(img3[0][0][176][176]==img2[0][0][176][176])\n",
    "print(img[0][0][176][176]==img2[0][0][176][176])\n",
    "print(img3[0][0][176]==img2[0][0][176])\n",
    "print(img[0][0][176]==img2[0][0][176])\n",
    "#verified"
   ]
  }
 ],
 "metadata": {
  "kernelspec": {
   "display_name": "Python 3 (ipykernel)",
   "language": "python",
   "name": "python3"
  },
  "language_info": {
   "codemirror_mode": {
    "name": "ipython",
    "version": 3
   },
   "file_extension": ".py",
   "mimetype": "text/x-python",
   "name": "python",
   "nbconvert_exporter": "python",
   "pygments_lexer": "ipython3",
   "version": "3.9.12"
  }
 },
 "nbformat": 4,
 "nbformat_minor": 5
}
